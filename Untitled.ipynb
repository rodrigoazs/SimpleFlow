{
 "cells": [
  {
   "cell_type": "code",
   "execution_count": 1,
   "metadata": {
    "collapsed": true
   },
   "outputs": [],
   "source": [
    "class BaseData:\n",
    "    def __init__(self, name):\n",
    "        self.name = name\n",
    "\n",
    "    def load(self):\n",
    "        pass\n",
    "\n",
    "    def save(self):\n",
    "        pass"
   ]
  },
  {
   "cell_type": "code",
   "execution_count": 2,
   "metadata": {
    "collapsed": true
   },
   "outputs": [],
   "source": [
    "a = BaseData('teste')"
   ]
  },
  {
   "cell_type": "code",
   "execution_count": 3,
   "metadata": {
    "collapsed": true
   },
   "outputs": [],
   "source": [
    "class CsvData(BaseData):\n",
    "    def __init__(self, name, filepath, *args, **kwargs):\n",
    "        super().__init__(name)\n",
    "        self.filepath = filepath\n",
    "        self.args = args\n",
    "        self.kwargs = kwargs\n",
    "\n",
    "    def load(self):\n",
    "        return pd.read_csv(self.filepath, *self.args, **self.kwargs)\n",
    "\n",
    "    def save(self, data):\n",
    "        data.to_csv(self.filepath, index=False)"
   ]
  },
  {
   "cell_type": "code",
   "execution_count": 4,
   "metadata": {
    "collapsed": true
   },
   "outputs": [],
   "source": [
    "a = CsvData('Haha', 'path.csv')"
   ]
  },
  {
   "cell_type": "code",
   "execution_count": 5,
   "metadata": {
    "collapsed": true
   },
   "outputs": [],
   "source": [
    "class MemoryData(BaseData):\n",
    "    def load(self):\n",
    "        return self.data\n",
    "\n",
    "    def save(self, data):\n",
    "        self.data = data"
   ]
  },
  {
   "cell_type": "code",
   "execution_count": 6,
   "metadata": {
    "collapsed": true
   },
   "outputs": [],
   "source": [
    "a = MemoryData('kk')"
   ]
  },
  {
   "cell_type": "code",
   "execution_count": 7,
   "metadata": {},
   "outputs": [
    {
     "data": {
      "text/plain": [
       "'kk'"
      ]
     },
     "execution_count": 7,
     "metadata": {},
     "output_type": "execute_result"
    }
   ],
   "source": [
    "a.name"
   ]
  },
  {
   "cell_type": "code",
   "execution_count": 8,
   "metadata": {
    "collapsed": true
   },
   "outputs": [],
   "source": [
    "import yaml"
   ]
  },
  {
   "cell_type": "code",
   "execution_count": 9,
   "metadata": {
    "collapsed": true
   },
   "outputs": [],
   "source": [
    "def read_config_yaml(path):\n",
    "    with open(path) as file:\n",
    "        return yaml.load(file)"
   ]
  },
  {
   "cell_type": "code",
   "execution_count": 10,
   "metadata": {},
   "outputs": [
    {
     "data": {
      "text/plain": [
       "{'base_fechamento_14_15': {'args': {'sheet_name': 'report1428005297420'},\n",
       "  'format': 'ExcelData',\n",
       "  'path': '../data/raw/Base Fechamento 14_15.xlsx'},\n",
       " 'base_fechamento_16_17_18': {'args': {'delimiter': ';',\n",
       "   'encoding': 'ISO-8859-1'},\n",
       "  'format': 'CsvData',\n",
       "  'path': '../data/raw/Base Fechamento_16_17_18.csv'},\n",
       " 'pib_municipios': {'format': 'ExcelData',\n",
       "  'path': '../data/raw/PIB dos Municípios - base de dados 2010-2016.xls'}}"
      ]
     },
     "execution_count": 10,
     "metadata": {},
     "output_type": "execute_result"
    }
   ],
   "source": [
    "read_config_yaml('config.yaml')"
   ]
  },
  {
   "cell_type": "code",
   "execution_count": 11,
   "metadata": {
    "collapsed": true
   },
   "outputs": [],
   "source": [
    "a = eval(\"CsvData\")('teste', 'caca')"
   ]
  },
  {
   "cell_type": "code",
   "execution_count": 12,
   "metadata": {},
   "outputs": [
    {
     "data": {
      "text/plain": [
       "'teste'"
      ]
     },
     "execution_count": 12,
     "metadata": {},
     "output_type": "execute_result"
    }
   ],
   "source": [
    "a.name"
   ]
  },
  {
   "cell_type": "code",
   "execution_count": 13,
   "metadata": {},
   "outputs": [
    {
     "data": {
      "text/plain": [
       "<__main__.CsvData at 0x7feae035b0f0>"
      ]
     },
     "execution_count": 13,
     "metadata": {},
     "output_type": "execute_result"
    }
   ],
   "source": [
    "globals()[\"CsvData\"]('teste', 'jjj')"
   ]
  },
  {
   "cell_type": "code",
   "execution_count": 14,
   "metadata": {
    "collapsed": true
   },
   "outputs": [],
   "source": [
    "def teste(df):\n",
    "    print(df)\n",
    "    return (df ,)"
   ]
  },
  {
   "cell_type": "code",
   "execution_count": 17,
   "metadata": {},
   "outputs": [
    {
     "name": "stdout",
     "output_type": "stream",
     "text": [
      "Executando teste1\n",
      "   a  b\n",
      "0  1  2\n",
      "1  3  4\n",
      "Executando teste2\n",
      "   a  b\n",
      "0  1  2\n",
      "1  3  4\n"
     ]
    }
   ],
   "source": [
    "from simpleflow import Pipeline, Node, CsvData, MemoryData, ExcelData\n",
    "\n",
    "train = Pipeline('train',\n",
    "                nodes=[\n",
    "                    Node(teste, 'teste1',\n",
    "                         inputs=['pib_municipios',\n",
    "                                 ],\n",
    "                         outputs=['base_fechamento_14_15',]\n",
    "                        ),\n",
    "                    Node(teste, 'teste2',\n",
    "                         inputs=['base_fechamento_14_15',\n",
    "                                 ],\n",
    "                         outputs=['base_fechamento_16_17_18',]\n",
    "                        ),\n",
    "                ],\n",
    "                datasets_config='config.yaml')\n",
    "\n",
    "train.run()"
   ]
  },
  {
   "cell_type": "code",
   "execution_count": null,
   "metadata": {
    "collapsed": true
   },
   "outputs": [],
   "source": []
  }
 ],
 "metadata": {
  "kernelspec": {
   "display_name": "Python 3",
   "language": "python",
   "name": "python3"
  },
  "language_info": {
   "codemirror_mode": {
    "name": "ipython",
    "version": 3
   },
   "file_extension": ".py",
   "mimetype": "text/x-python",
   "name": "python",
   "nbconvert_exporter": "python",
   "pygments_lexer": "ipython3",
   "version": "3.6.3"
  }
 },
 "nbformat": 4,
 "nbformat_minor": 2
}
