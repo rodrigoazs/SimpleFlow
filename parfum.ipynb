{
 "cells": [
  {
   "cell_type": "code",
   "execution_count": 51,
   "metadata": {},
   "outputs": [],
   "source": [
    "from functools import partial, wraps\n",
    "import pickle\n",
    "import os"
   ]
  },
  {
   "cell_type": "code",
   "execution_count": 52,
   "metadata": {},
   "outputs": [],
   "source": [
    "def parfum(func=None, *, params={}):\n",
    "    PERSISTENCE_PATH = 'persistence'\n",
    "    \n",
    "    if func is None:\n",
    "        return partial(parfum, params=params)\n",
    "    \n",
    "    @wraps(func)\n",
    "    def wrapper(*args, **kwargs):\n",
    "        # save arguments if it receives them\n",
    "        if len(args):\n",
    "            # create new arguments\n",
    "            new_args = []\n",
    "            for i in range(len(args)):\n",
    "                if 'input' in params and i in params['input']:\n",
    "                    new_args.append(params['input'][i])\n",
    "                elif args[i] == None:\n",
    "                    with open('{}/{}.input.{}.pkl'.format(PERSISTENCE_PATH, func.__name__, i), 'rb') as f:\n",
    "                        new_args.append(pickle.load(f))\n",
    "                else:\n",
    "                    new_args.append(args[i])\n",
    "                    with open('{}/{}.input.{}.pkl'.format(PERSISTENCE_PATH, func.__name__, i), 'wb') as f:\n",
    "                        pickle.dump(args[i], f)\n",
    "            ret = func(*new_args, **kwargs)\n",
    "        # load persistent files if no arguments were given\n",
    "        else:\n",
    "            files = []\n",
    "            # load files in persitence folder\n",
    "            for file in os.listdir(PERSISTENCE_PATH):\n",
    "                if os.path.isfile(os.path.join(PERSISTENCE_PATH, file)) and file.startswith('{}.input.'.format(func.__name__)):\n",
    "                    files.append(os.path.join(PERSISTENCE_PATH, file))\n",
    "            # create new arguments\n",
    "            new_args = []\n",
    "            for file in files:\n",
    "                with open(file, 'rb') as f:\n",
    "                    new_args.append(pickle.load(f))\n",
    "            ret = func(*new_args, **kwargs)\n",
    "        # save output\n",
    "        if ret in [list, tuple]:\n",
    "            for i in range(len(ret)):\n",
    "                with open('{}/{}.output.{}.pkl'.format(PERSISTENCE_PATH, func.__name__, i), 'wb') as f:\n",
    "                    pickle.dump(ret[i], f)\n",
    "                if 'output' in params and i in params['output']:\n",
    "                    params['output'][i](ret[i])\n",
    "        else:\n",
    "            with open('{}/{}.output.{}.pkl'.format(PERSISTENCE_PATH, func.__name__, 0), 'wb') as f:\n",
    "                pickle.dump(ret, f)\n",
    "            if 'output' in params and 0 in params['output']:\n",
    "                    params['output'][0](ret)\n",
    "        return ret\n",
    "    return wrapper"
   ]
  },
  {
   "cell_type": "code",
   "execution_count": 53,
   "metadata": {},
   "outputs": [],
   "source": [
    "@parfum(params={\n",
    "    'input': {\n",
    "        0: 6000\n",
    "    },\n",
    "    'output': {\n",
    "        0: lambda x: print('salvo', x)\n",
    "    },\n",
    "})\n",
    "def teste(a, b, c):\n",
    "    return a+b+c"
   ]
  },
  {
   "cell_type": "code",
   "execution_count": 54,
   "metadata": {},
   "outputs": [
    {
     "name": "stdout",
     "output_type": "stream",
     "text": [
      "salvo 6005\n"
     ]
    },
    {
     "data": {
      "text/plain": [
       "6005"
      ]
     },
     "execution_count": 54,
     "metadata": {},
     "output_type": "execute_result"
    }
   ],
   "source": [
    "teste(555,2,3)"
   ]
  },
  {
   "cell_type": "code",
   "execution_count": 55,
   "metadata": {},
   "outputs": [
    {
     "name": "stdout",
     "output_type": "stream",
     "text": [
      "salvo 6007\n"
     ]
    },
    {
     "data": {
      "text/plain": [
       "6007"
      ]
     },
     "execution_count": 55,
     "metadata": {},
     "output_type": "execute_result"
    }
   ],
   "source": [
    "teste(3, None, 5)"
   ]
  },
  {
   "cell_type": "code",
   "execution_count": null,
   "metadata": {},
   "outputs": [],
   "source": []
  }
 ],
 "metadata": {
  "kernelspec": {
   "display_name": "Python 3",
   "language": "python",
   "name": "python3"
  },
  "language_info": {
   "codemirror_mode": {
    "name": "ipython",
    "version": 3
   },
   "file_extension": ".py",
   "mimetype": "text/x-python",
   "name": "python",
   "nbconvert_exporter": "python",
   "pygments_lexer": "ipython3",
   "version": "3.7.4"
  }
 },
 "nbformat": 4,
 "nbformat_minor": 2
}
